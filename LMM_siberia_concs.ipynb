{
 "cells": [
  {
   "cell_type": "code",
   "execution_count": 61,
   "id": "99d17e69",
   "metadata": {},
   "outputs": [],
   "source": [
    "library(dplyr)\n",
    "library(stringr)\n",
    "library(lme4)\n",
    "library(ggplot2)\n",
    "library(tidyr)\n",
    "library(insight)"
   ]
  },
  {
   "cell_type": "code",
   "execution_count": 62,
   "id": "2cf614ad",
   "metadata": {},
   "outputs": [
    {
     "data": {
      "text/html": [
       "'data.frame'"
      ],
      "text/latex": [
       "'data.frame'"
      ],
      "text/markdown": [
       "'data.frame'"
      ],
      "text/plain": [
       "[1] \"data.frame\""
      ]
     },
     "metadata": {},
     "output_type": "display_data"
    },
    {
     "data": {
      "text/html": [
       "<ol class=list-inline>\n",
       "\t<li>180</li>\n",
       "\t<li>9</li>\n",
       "</ol>\n"
      ],
      "text/latex": [
       "\\begin{enumerate*}\n",
       "\\item 180\n",
       "\\item 9\n",
       "\\end{enumerate*}\n"
      ],
      "text/markdown": [
       "1. 180\n",
       "2. 9\n",
       "\n",
       "\n"
      ],
      "text/plain": [
       "[1] 180   9"
      ]
     },
     "metadata": {},
     "output_type": "display_data"
    },
    {
     "data": {
      "text/html": [
       "<table>\n",
       "<thead><tr><th scope=col>Site</th><th scope=col>Date</th><th scope=col>Area</th><th scope=col>T</th><th scope=col>pH</th><th scope=col>EC</th><th scope=col>diss_CO2</th><th scope=col>diss_CH4</th><th scope=col>diss_N2O</th></tr></thead>\n",
       "<tbody>\n",
       "\t<tr><td>B_P2_     </td><td>31/07/2016</td><td> 36       </td><td>13.75     </td><td>5.94      </td><td>14.7      </td><td>206.7818  </td><td> 3.2656   </td><td>5.81      </td></tr>\n",
       "\t<tr><td>B_P3      </td><td>31/07/2016</td><td>156       </td><td>13.25     </td><td>6.31      </td><td>15.3      </td><td>141.7500  </td><td> 6.0922   </td><td>5.18      </td></tr>\n",
       "\t<tr><td>B_P4      </td><td>31/07/2016</td><td>165       </td><td>15.05     </td><td>6.67      </td><td>14.8      </td><td>118.0000  </td><td> 2.4873   </td><td>5.64      </td></tr>\n",
       "\t<tr><td>B_P5      </td><td>31/07/2016</td><td> 96       </td><td>15.05     </td><td>5.94      </td><td>19.8      </td><td>404.3800  </td><td>10.0517   </td><td>4.05      </td></tr>\n",
       "\t<tr><td>B_P6      </td><td>31/07/2016</td><td>  3       </td><td>12.95     </td><td>5.14      </td><td>28.2      </td><td>725.6120  </td><td>64.2175   </td><td>4.06      </td></tr>\n",
       "\t<tr><td>B_P7      </td><td>31/07/2016</td><td> 56       </td><td>14.20     </td><td>6.20      </td><td>15.1      </td><td>294.0076  </td><td> 5.0685   </td><td>5.55      </td></tr>\n",
       "</tbody>\n",
       "</table>\n"
      ],
      "text/latex": [
       "\\begin{tabular}{r|lllllllll}\n",
       " Site & Date & Area & T & pH & EC & diss\\_CO2 & diss\\_CH4 & diss\\_N2O\\\\\n",
       "\\hline\n",
       "\t B\\_P2\\_  & 31/07/2016 &  36        & 13.75      & 5.94       & 14.7       & 206.7818   &  3.2656    & 5.81      \\\\\n",
       "\t B\\_P3     & 31/07/2016 & 156        & 13.25      & 6.31       & 15.3       & 141.7500   &  6.0922    & 5.18      \\\\\n",
       "\t B\\_P4     & 31/07/2016 & 165        & 15.05      & 6.67       & 14.8       & 118.0000   &  2.4873    & 5.64      \\\\\n",
       "\t B\\_P5     & 31/07/2016 &  96        & 15.05      & 5.94       & 19.8       & 404.3800   & 10.0517    & 4.05      \\\\\n",
       "\t B\\_P6     & 31/07/2016 &   3        & 12.95      & 5.14       & 28.2       & 725.6120   & 64.2175    & 4.06      \\\\\n",
       "\t B\\_P7     & 31/07/2016 &  56        & 14.20      & 6.20       & 15.1       & 294.0076   &  5.0685    & 5.55      \\\\\n",
       "\\end{tabular}\n"
      ],
      "text/markdown": [
       "\n",
       "| Site | Date | Area | T | pH | EC | diss_CO2 | diss_CH4 | diss_N2O |\n",
       "|---|---|---|---|---|---|---|---|---|\n",
       "| B_P2_      | 31/07/2016 |  36        | 13.75      | 5.94       | 14.7       | 206.7818   |  3.2656    | 5.81       |\n",
       "| B_P3       | 31/07/2016 | 156        | 13.25      | 6.31       | 15.3       | 141.7500   |  6.0922    | 5.18       |\n",
       "| B_P4       | 31/07/2016 | 165        | 15.05      | 6.67       | 14.8       | 118.0000   |  2.4873    | 5.64       |\n",
       "| B_P5       | 31/07/2016 |  96        | 15.05      | 5.94       | 19.8       | 404.3800   | 10.0517    | 4.05       |\n",
       "| B_P6       | 31/07/2016 |   3        | 12.95      | 5.14       | 28.2       | 725.6120   | 64.2175    | 4.06       |\n",
       "| B_P7       | 31/07/2016 |  56        | 14.20      | 6.20       | 15.1       | 294.0076   |  5.0685    | 5.55       |\n",
       "\n"
      ],
      "text/plain": [
       "  Site  Date       Area T     pH   EC   diss_CO2 diss_CH4 diss_N2O\n",
       "1 B_P2_ 31/07/2016  36  13.75 5.94 14.7 206.7818  3.2656  5.81    \n",
       "2 B_P3  31/07/2016 156  13.25 6.31 15.3 141.7500  6.0922  5.18    \n",
       "3 B_P4  31/07/2016 165  15.05 6.67 14.8 118.0000  2.4873  5.64    \n",
       "4 B_P5  31/07/2016  96  15.05 5.94 19.8 404.3800 10.0517  4.05    \n",
       "5 B_P6  31/07/2016   3  12.95 5.14 28.2 725.6120 64.2175  4.06    \n",
       "6 B_P7  31/07/2016  56  14.20 6.20 15.1 294.0076  5.0685  5.55    "
      ]
     },
     "metadata": {},
     "output_type": "display_data"
    }
   ],
   "source": [
    "# reading the csvfile:\n",
    "all_df <- read.csv('...csv')\n",
    "class(all_df)\n",
    "dim(all_df)\n",
    "head(all_df)"
   ]
  },
  {
   "cell_type": "code",
   "execution_count": 63,
   "id": "5ff42401",
   "metadata": {},
   "outputs": [
    {
     "data": {
      "text/html": [
       "<ol class=list-inline>\n",
       "\t<li>180</li>\n",
       "\t<li>9</li>\n",
       "</ol>\n"
      ],
      "text/latex": [
       "\\begin{enumerate*}\n",
       "\\item 180\n",
       "\\item 9\n",
       "\\end{enumerate*}\n"
      ],
      "text/markdown": [
       "1. 180\n",
       "2. 9\n",
       "\n",
       "\n"
      ],
      "text/plain": [
       "[1] 180   9"
      ]
     },
     "metadata": {},
     "output_type": "display_data"
    }
   ],
   "source": [
    "# Delete rows that have more than 3 columns with NaNs\n",
    "delete.na <- function(DF, n=0) {\n",
    "  DF[rowSums(is.na(DF)) <= n,]\n",
    "}\n",
    "all_df <- delete.na(all_df, 3)\n",
    "dim(all_df)"
   ]
  },
  {
   "cell_type": "code",
   "execution_count": 64,
   "id": "ffe88b6a",
   "metadata": {},
   "outputs": [
    {
     "name": "stderr",
     "output_type": "stream",
     "text": [
      "Warning message:\n",
      "\"Expected 3 pieces. Additional pieces discarded in 3 rows [52, 68, 169].\"Warning message:\n",
      "\"Expected 3 pieces. Missing pieces filled with `NA` in 55 rows [2, 3, 4, 5, 6, 7, 8, 9, 10, 11, 37, 38, 39, 40, 41, 42, 43, 44, 45, 46, ...].\""
     ]
    },
    {
     "data": {
      "text/html": [
       "<table>\n",
       "<thead><tr><th scope=col>Wb_site</th><th scope=col>Date</th><th scope=col>Area</th><th scope=col>T</th><th scope=col>pH</th><th scope=col>EC</th><th scope=col>diss_CO2</th><th scope=col>diss_CH4</th><th scope=col>diss_N2O</th><th scope=col>Year</th><th scope=col>WbType</th><th scope=col>Wb</th></tr></thead>\n",
       "<tbody>\n",
       "\t<tr><td>P2        </td><td>31/07/2016</td><td> 36       </td><td>13.75     </td><td>5.94      </td><td>14.7      </td><td>206.7818  </td><td> 3.2656   </td><td>5.81      </td><td>2016      </td><td>Pond      </td><td>P2        </td></tr>\n",
       "\t<tr><td>P3        </td><td>31/07/2016</td><td>156       </td><td>13.25     </td><td>6.31      </td><td>15.3      </td><td>141.7500  </td><td> 6.0922   </td><td>5.18      </td><td>2016      </td><td>Pond      </td><td>P3        </td></tr>\n",
       "\t<tr><td>P4        </td><td>31/07/2016</td><td>165       </td><td>15.05     </td><td>6.67      </td><td>14.8      </td><td>118.0000  </td><td> 2.4873   </td><td>5.64      </td><td>2016      </td><td>Pond      </td><td>P4        </td></tr>\n",
       "\t<tr><td>P5        </td><td>31/07/2016</td><td> 96       </td><td>15.05     </td><td>5.94      </td><td>19.8      </td><td>404.3800  </td><td>10.0517   </td><td>4.05      </td><td>2016      </td><td>Pond      </td><td>P5        </td></tr>\n",
       "\t<tr><td>P6        </td><td>31/07/2016</td><td>  3       </td><td>12.95     </td><td>5.14      </td><td>28.2      </td><td>725.6120  </td><td>64.2175   </td><td>4.06      </td><td>2016      </td><td>Pond      </td><td>P6        </td></tr>\n",
       "\t<tr><td>P7        </td><td>31/07/2016</td><td> 56       </td><td>14.20     </td><td>6.20      </td><td>15.1      </td><td>294.0076  </td><td> 5.0685   </td><td>5.55      </td><td>2016      </td><td>Pond      </td><td>P7        </td></tr>\n",
       "</tbody>\n",
       "</table>\n"
      ],
      "text/latex": [
       "\\begin{tabular}{r|llllllllllll}\n",
       " Wb\\_site & Date & Area & T & pH & EC & diss\\_CO2 & diss\\_CH4 & diss\\_N2O & Year & WbType & Wb\\\\\n",
       "\\hline\n",
       "\t P2         & 31/07/2016 &  36        & 13.75      & 5.94       & 14.7       & 206.7818   &  3.2656    & 5.81       & 2016       & Pond       & P2        \\\\\n",
       "\t P3         & 31/07/2016 & 156        & 13.25      & 6.31       & 15.3       & 141.7500   &  6.0922    & 5.18       & 2016       & Pond       & P3        \\\\\n",
       "\t P4         & 31/07/2016 & 165        & 15.05      & 6.67       & 14.8       & 118.0000   &  2.4873    & 5.64       & 2016       & Pond       & P4        \\\\\n",
       "\t P5         & 31/07/2016 &  96        & 15.05      & 5.94       & 19.8       & 404.3800   & 10.0517    & 4.05       & 2016       & Pond       & P5        \\\\\n",
       "\t P6         & 31/07/2016 &   3        & 12.95      & 5.14       & 28.2       & 725.6120   & 64.2175    & 4.06       & 2016       & Pond       & P6        \\\\\n",
       "\t P7         & 31/07/2016 &  56        & 14.20      & 6.20       & 15.1       & 294.0076   &  5.0685    & 5.55       & 2016       & Pond       & P7        \\\\\n",
       "\\end{tabular}\n"
      ],
      "text/markdown": [
       "\n",
       "| Wb_site | Date | Area | T | pH | EC | diss_CO2 | diss_CH4 | diss_N2O | Year | WbType | Wb |\n",
       "|---|---|---|---|---|---|---|---|---|---|---|---|\n",
       "| P2         | 31/07/2016 |  36        | 13.75      | 5.94       | 14.7       | 206.7818   |  3.2656    | 5.81       | 2016       | Pond       | P2         |\n",
       "| P3         | 31/07/2016 | 156        | 13.25      | 6.31       | 15.3       | 141.7500   |  6.0922    | 5.18       | 2016       | Pond       | P3         |\n",
       "| P4         | 31/07/2016 | 165        | 15.05      | 6.67       | 14.8       | 118.0000   |  2.4873    | 5.64       | 2016       | Pond       | P4         |\n",
       "| P5         | 31/07/2016 |  96        | 15.05      | 5.94       | 19.8       | 404.3800   | 10.0517    | 4.05       | 2016       | Pond       | P5         |\n",
       "| P6         | 31/07/2016 |   3        | 12.95      | 5.14       | 28.2       | 725.6120   | 64.2175    | 4.06       | 2016       | Pond       | P6         |\n",
       "| P7         | 31/07/2016 |  56        | 14.20      | 6.20       | 15.1       | 294.0076   |  5.0685    | 5.55       | 2016       | Pond       | P7         |\n",
       "\n"
      ],
      "text/plain": [
       "  Wb_site Date       Area T     pH   EC   diss_CO2 diss_CH4 diss_N2O Year\n",
       "1 P2      31/07/2016  36  13.75 5.94 14.7 206.7818  3.2656  5.81     2016\n",
       "2 P3      31/07/2016 156  13.25 6.31 15.3 141.7500  6.0922  5.18     2016\n",
       "3 P4      31/07/2016 165  15.05 6.67 14.8 118.0000  2.4873  5.64     2016\n",
       "4 P5      31/07/2016  96  15.05 5.94 19.8 404.3800 10.0517  4.05     2016\n",
       "5 P6      31/07/2016   3  12.95 5.14 28.2 725.6120 64.2175  4.06     2016\n",
       "6 P7      31/07/2016  56  14.20 6.20 15.1 294.0076  5.0685  5.55     2016\n",
       "  WbType Wb\n",
       "1 Pond   P2\n",
       "2 Pond   P3\n",
       "3 Pond   P4\n",
       "4 Pond   P5\n",
       "5 Pond   P6\n",
       "6 Pond   P7"
      ]
     },
     "metadata": {},
     "output_type": "display_data"
    }
   ],
   "source": [
    "# Adding year column based on inital letter of Site column:\n",
    "all_df <- all_df %>%\n",
    "  mutate(Year = case_when(\n",
    "    startsWith(as.character(Site), \"A\") ~ \"2015\",\n",
    "    startsWith(as.character(Site), \"B\") ~ \"2016\",\n",
    "    startsWith(as.character(Site), \"C\") ~ \"2017\",  \n",
    "    TRUE ~ as.character(Site)))\n",
    "\n",
    "# Adding waterbody type column based on second letter of Site column string:\n",
    "all_df <- all_df %>%\n",
    "  mutate(WbType = case_when(\n",
    "    str_detect(as.character(Site), \"L\") ~ \"Lake\",\n",
    "    str_detect(as.character(Site), \"P\") ~ \"Pond\",\n",
    "    str_detect(as.character(Site), \"R\") ~ \"Fluvial\", \n",
    "    str_detect(as.character(Site), \"T\") ~ \"Flood\"))\n",
    "\n",
    "# Adding specific waterbody column based on second letter and numbers of Site column string:\n",
    "all_df <- all_df %>%\n",
    "  mutate(Wb = case_when(\n",
    "    str_detect(as.character(Site), \"L1\") ~ \"Lake_T\",\n",
    "    str_detect(as.character(Site), \"L2\") ~ \"Lake_1\",\n",
    "    str_detect(as.character(Site), \"L3\") ~ \"Lake_2\",\n",
    "    str_detect(as.character(Site), \"_P1_\") ~ \"P1\",\n",
    "    str_detect(as.character(Site), \"_P2_\") ~ \"P2\",\n",
    "    str_detect(as.character(Site), \"P3\") ~ \"P3\",\n",
    "    str_detect(as.character(Site), \"P4\") ~ \"P4\",\n",
    "    str_detect(as.character(Site), \"P5\") ~ \"P5\",\n",
    "    str_detect(as.character(Site), \"P6\") ~ \"P6\",\n",
    "    str_detect(as.character(Site), \"P7\") ~ \"P7\",\n",
    "    str_detect(as.character(Site), \"P8\") ~ \"P8\",\n",
    "    str_detect(as.character(Site), \"P9\") ~ \"P9\",\n",
    "    str_detect(as.character(Site), \"P10\") ~ \"P10\",\n",
    "    str_detect(as.character(Site), \"P11\") ~ \"P11\",\n",
    "    str_detect(as.character(Site), \"P12\") ~ \"P12\",\n",
    "    str_detect(as.character(Site), \"R1\") ~ \"River_Side\", \n",
    "    str_detect(as.character(Site), \"R2\") ~ \"River\",\n",
    "    str_detect(as.character(Site), \"R3\") ~ \"River\",\n",
    "    str_detect(as.character(Site), \"R4\") ~ \"River_Side\", \n",
    "    str_detect(as.character(Site), \"R5\") ~ \"Drainage_Path\",\n",
    "    str_detect(as.character(Site), \"R6\") ~ \"Drainage_Path\",\n",
    "    str_detect(as.character(Site), \"R7\") ~ \"Stream\",\n",
    "    str_detect(as.character(Site), \"R8\") ~ \"Stream\",\n",
    "    str_detect(as.character(Site), \"R9\") ~ \"Stream\",\n",
    "    str_detect(as.character(Site), \"R10\") ~ \"River\",\n",
    "    str_detect(as.character(Site), \"R11\") ~ \"Stream\",\n",
    "    str_detect(as.character(Site), \"T\") ~ \"Flood\"))\n",
    "\n",
    "# To get a column with only site names split the string from orginal 'Site' column and keep site name in dataframe only\n",
    "all_df = separate(data = all_df, col = Site, into = c(\"year_no\", \"Wb_site\", \"rep_no\"), sep = \"\\\\_\")\n",
    "all_df <- subset(all_df, select = -c(year_no, rep_no))\n",
    "\n",
    "head(all_df)"
   ]
  },
  {
   "cell_type": "code",
   "execution_count": 65,
   "id": "7eed3b45",
   "metadata": {},
   "outputs": [],
   "source": [
    "# Make dataframes for each waterbody\n",
    "Lake <- all_df %>%\n",
    "  filter(str_detect(WbType, \"Lake\"))\n",
    "\n",
    "# Make dataframes for 2016 lake data\n",
    "Lake_16 <- Lake %>%\n",
    "  filter(str_detect(Year, \"2016\"))\n",
    "# Make dataframes for 2017 lake data\n",
    "Lake_17 <- Lake %>%\n",
    "  filter(str_detect(Year, \"2017\"))\n",
    "\n",
    "# Remove nans\n",
    "Lake <- Lake[!is.na(Lake$diss_CO2), ]\n",
    "\n",
    "Pond <- all_df %>%\n",
    "  filter(str_detect(WbType, \"Pond\"))\n",
    "Pond <- Pond[!grepl(\"P6\", Pond$Wb_site),]\n",
    "\n",
    "Fluvial <- all_df %>%\n",
    "  filter(str_detect(WbType, \"Fluvial\"))"
   ]
  },
  {
   "cell_type": "markdown",
   "id": "f73db90d",
   "metadata": {},
   "source": [
    "# Lakes"
   ]
  },
  {
   "cell_type": "markdown",
   "id": "7fa685bf",
   "metadata": {},
   "source": [
    "## Dissolved CO2 concentrations"
   ]
  },
  {
   "cell_type": "code",
   "execution_count": 66,
   "id": "934293a8",
   "metadata": {},
   "outputs": [
    {
     "data": {
      "text/plain": [
       "Linear mixed model fit by REML ['lmerMod']\n",
       "Formula: diss_CO2 ~ (1 | Wb) + (1 | Year)\n",
       "   Data: Lake\n",
       "\n",
       "REML criterion at convergence: 444.8\n",
       "\n",
       "Scaled residuals: \n",
       "    Min      1Q  Median      3Q     Max \n",
       "-1.5525 -0.6145 -0.1155  0.4295  3.1518 \n",
       "\n",
       "Random effects:\n",
       " Groups   Name        Variance Std.Dev.\n",
       " Wb       (Intercept)  2.93    1.712   \n",
       " Year     (Intercept) 14.99    3.871   \n",
       " Residual             86.41    9.296   \n",
       "Number of obs: 61, groups:  Wb, 3; Year, 2\n",
       "\n",
       "Fixed effects:\n",
       "            Estimate Std. Error t value\n",
       "(Intercept)   40.218      3.152   12.76"
      ]
     },
     "metadata": {},
     "output_type": "display_data"
    }
   ],
   "source": [
    "model.lake.1 <- lmer(diss_CO2 ~ (1|Wb) + (1|Year), data = Lake)\n",
    "summary(model.lake.1)"
   ]
  },
  {
   "cell_type": "code",
   "execution_count": 67,
   "id": "64f5e2ca",
   "metadata": {},
   "outputs": [
    {
     "data": {
      "text/plain": [
       "Linear mixed model fit by REML ['lmerMod']\n",
       "Formula: diss_CO2 ~ (1 | Wb_site) + (1 | Year)\n",
       "   Data: Lake\n",
       "\n",
       "REML criterion at convergence: 432\n",
       "\n",
       "Scaled residuals: \n",
       "    Min      1Q  Median      3Q     Max \n",
       "-1.9725 -0.6136 -0.1431  0.5211  2.6995 \n",
       "\n",
       "Random effects:\n",
       " Groups   Name        Variance Std.Dev.\n",
       " Wb_site  (Intercept) 36.75    6.062   \n",
       " Year     (Intercept) 13.70    3.701   \n",
       " Residual             53.74    7.331   \n",
       "Number of obs: 61, groups:  Wb_site, 12; Year, 2\n",
       "\n",
       "Fixed effects:\n",
       "            Estimate Std. Error t value\n",
       "(Intercept)   40.110      3.289    12.2"
      ]
     },
     "metadata": {},
     "output_type": "display_data"
    }
   ],
   "source": [
    "model.lake.2 <- lmer(diss_CO2 ~ (1|Wb_site) + (1|Year), data = Lake)\n",
    "summary(model.lake.2)"
   ]
  },
  {
   "cell_type": "markdown",
   "id": "2ce7a6fa",
   "metadata": {},
   "source": [
    "### How well does model predict data"
   ]
  },
  {
   "cell_type": "code",
   "execution_count": 68,
   "id": "c11de4af",
   "metadata": {},
   "outputs": [
    {
     "data": {
      "image/png": "[encoded data removed]",
      "text/plain": [
       "plot without title"
      ]
     },
     "metadata": {},
     "output_type": "display_data"
    }
   ],
   "source": [
    "# Make a dataframe with sampled and predcited by model_lakes dissolved CO2 data in one column\n",
    "# and what CO2 value it is (sample or predict) in another column so can boxplot\n",
    "CO2 <-  Lake$diss_CO2\n",
    "site <- Lake$Wb_site\n",
    "which <- 'sample'\n",
    "Lake_CO2_plot <- data.frame(site, which, CO2)\n",
    "\n",
    "which <- 'predicted'\n",
    "predictDf <- data.frame(Wb_site = Lake$Wb_site, Year = Lake$Year)\n",
    "modelled_CO2 <- predict(model.lake.2, predictDf)\n",
    "modelled_site <- predictDf$Wb_site\n",
    "modelled <- data.frame(site = modelled_site, which = which, CO2 = modelled_CO2) \n",
    "\n",
    "Lake_CO2_plot <- rbind(Lake_CO2_plot, modelled)\n",
    "\n",
    "# Plot\n",
    "(split_plot <- ggplot(aes(x = site, y = CO2, colour = which), data = Lake_CO2_plot ) + \n",
    "  geom_point() + \n",
    "  theme_classic() +\n",
    "  xlab(\"Lake\") + \n",
    "  ylab(\"Diss CO2\"))"
   ]
  },
  {
   "cell_type": "markdown",
   "id": "dc2ab318",
   "metadata": {},
   "source": [
    "### Interclass Correlation Coefficient"
   ]
  },
  {
   "cell_type": "code",
   "execution_count": 86,
   "id": "4cce9eed",
   "metadata": {},
   "outputs": [
    {
     "name": "stdout",
     "output_type": "stream",
     "text": [
      "[1] 35.27413\n",
      "[1] 13.14651\n"
     ]
    }
   ],
   "source": [
    "vc = VarCorr(model.lake.2)\n",
    "print(vc,comp=c(\"Variance\",\"Std.Dev.\"),digits=2)\n",
    "vc = as.data.frame(vc)\n",
    "icc_wb_site = vc[1,4]/(vc[1,4]+vc[2,4]+vc[3,4])*100\n",
    "print(icc_wb_site)\n",
    "icc_wb_year = vc[2,4]/(vc[1,4]+vc[2,4]+vc[3,4])*100\n",
    "print(icc_wb_year)"
   ]
  },
  {
   "cell_type": "markdown",
   "id": "2dfe8b82",
   "metadata": {},
   "source": [
    "## Dissolved CH4 concentrations"
   ]
  },
  {
   "cell_type": "code",
   "execution_count": 84,
   "id": "60a16bd4",
   "metadata": {},
   "outputs": [
    {
     "data": {
      "text/plain": [
       "Linear mixed model fit by REML ['lmerMod']\n",
       "Formula: diss_CH4 ~ (1 | Wb) + (1 | Year)\n",
       "   Data: Lake\n",
       "\n",
       "REML criterion at convergence: 42.5\n",
       "\n",
       "Scaled residuals: \n",
       "     Min       1Q   Median       3Q      Max \n",
       "-2.20334 -0.60994  0.06482  0.66980  2.36082 \n",
       "\n",
       "Random effects:\n",
       " Groups   Name        Variance Std.Dev.\n",
       " Wb       (Intercept) 0.02662  0.1632  \n",
       " Year     (Intercept) 0.43832  0.6621  \n",
       " Residual             0.09608  0.3100  \n",
       "Number of obs: 61, groups:  Wb, 3; Year, 2\n",
       "\n",
       "Fixed effects:\n",
       "            Estimate Std. Error t value\n",
       "(Intercept)   0.8187     0.4793   1.708"
      ]
     },
     "metadata": {},
     "output_type": "display_data"
    }
   ],
   "source": [
    "model.lake.ch4.1 <- lmer(diss_CH4 ~ (1|Wb) + (1|Year), data = Lake)\n",
    "summary(model.lake.ch4.1)"
   ]
  },
  {
   "cell_type": "code",
   "execution_count": 85,
   "id": "e12f0a14",
   "metadata": {},
   "outputs": [
    {
     "data": {
      "text/plain": [
       "Linear mixed model fit by REML ['lmerMod']\n",
       "Formula: diss_CH4 ~ (1 | Wb_site) + (1 | Year)\n",
       "   Data: Lake\n",
       "\n",
       "REML criterion at convergence: 47.3\n",
       "\n",
       "Scaled residuals: \n",
       "     Min       1Q   Median       3Q      Max \n",
       "-2.31809 -0.55764  0.05186  0.64698  2.58319 \n",
       "\n",
       "Random effects:\n",
       " Groups   Name        Variance Std.Dev.\n",
       " Wb_site  (Intercept) 0.01935  0.1391  \n",
       " Year     (Intercept) 0.43373  0.6586  \n",
       " Residual             0.09756  0.3123  \n",
       "Number of obs: 61, groups:  Wb_site, 12; Year, 2\n",
       "\n",
       "Fixed effects:\n",
       "            Estimate Std. Error t value\n",
       "(Intercept)   0.8386     0.4692   1.788"
      ]
     },
     "metadata": {},
     "output_type": "display_data"
    }
   ],
   "source": [
    "model.lake.ch4.2 <- lmer(diss_CH4 ~ (1|Wb_site) + (1|Year), data = Lake)\n",
    "summary(model.lake.ch4.2)"
   ]
  },
  {
   "cell_type": "code",
   "execution_count": 78,
   "id": "ddfbc33f",
   "metadata": {},
   "outputs": [
    {
     "data": {
      "image/png": "[encoded data removed]",
      "text/plain": [
       "plot without title"
      ]
     },
     "metadata": {},
     "output_type": "display_data"
    }
   ],
   "source": [
    "# Make a dataframe with sampled and predcited  dissolved CH4 data from model model.lake.ch4.1\n",
    "CH4 <-  Lake$diss_CH4\n",
    "site <- Lake$Wb_site\n",
    "year <- Lake$Year\n",
    "which <- 'sample'\n",
    "Lake_CH4_plot <- data.frame(site, which, CH4, year)\n",
    "\n",
    "which <- 'predicted'\n",
    "predictDf <- data.frame(Wb_site = Lake$Wb_site, Year = Lake$Year)\n",
    "modelled_CH4 <- predict(model.lake.ch4.1, predictDf)\n",
    "#modelled_which <- which\n",
    "modelled_site <- predictDf$Wb_site\n",
    "modelled_year <- predictDf$Year\n",
    "modelled <- data.frame(site = modelled_site, which = which, CH4 = modelled_CH4, year = modelled_year) \n",
    "\n",
    "Lake_CH4_plot <- rbind(Lake_CH4_plot, modelled)\n",
    "\n",
    "(split_plot <- ggplot(aes(x = site, y = CH4, colour = which), data = Lake_CH4_plot ) + \n",
    "  geom_point() + \n",
    "  theme_classic() +\n",
    "  xlab(\"Lake\") + \n",
    "  ylab(\"Diss CH4\"))"
   ]
  },
  {
   "cell_type": "code",
   "execution_count": 79,
   "id": "f5a9d979",
   "metadata": {},
   "outputs": [
    {
     "data": {
      "image/png": "[encoded data removed]",
      "text/plain": [
       "plot without title"
      ]
     },
     "metadata": {},
     "output_type": "display_data"
    }
   ],
   "source": [
    "# Make a dataframe with sampled and predcited dissolved CH4 data from model model.lake.ch4.2\n",
    "CH4 <-  Lake$diss_CH4\n",
    "site <- Lake$Wb_site\n",
    "year <- Lake$Year\n",
    "which <- 'sample'\n",
    "Lake_CH4_plot <- data.frame(site, which, CH4, year)\n",
    "\n",
    "which <- 'predicted'\n",
    "predictDf <- data.frame(Wb_site = Lake$Wb_site, Year = Lake$Year)\n",
    "modelled_CH4 <- predict(model.lake.ch4.2, predictDf)\n",
    "#modelled_which <- which\n",
    "modelled_site <- predictDf$Wb_site\n",
    "modelled_year <- predictDf$Year\n",
    "modelled <- data.frame(site = modelled_site, which = which, CH4 = modelled_CH4, year = modelled_year) \n",
    "\n",
    "Lake_CH4_plot <- rbind(Lake_CH4_plot, modelled)\n",
    "\n",
    "(split_plot <- ggplot(aes(x = site, y = CH4, colour = which), data = Lake_CH4_plot ) + \n",
    "  geom_point() + \n",
    "  theme_classic() +\n",
    "  xlab(\"Lake\") + \n",
    "  ylab(\"Diss CH4\"))"
   ]
  },
  {
   "cell_type": "markdown",
   "id": "3be7a2a0",
   "metadata": {},
   "source": [
    "### Interclass Correlation Coefficient"
   ]
  },
  {
   "cell_type": "code",
   "execution_count": 87,
   "id": "d9cc9db1",
   "metadata": {},
   "outputs": [
    {
     "name": "stdout",
     "output_type": "stream",
     "text": [
      " Groups   Name        Std.Dev.\n",
      " Wb_site  (Intercept) 0.13912 \n",
      " Year     (Intercept) 0.65858 \n",
      " Residual             0.31234 \n",
      "[1] 3.514663\n",
      "[1] 78.76803\n"
     ]
    }
   ],
   "source": [
    "vc = VarCorr(model.lake.ch4.2)\n",
    "print(vc,comp=c(\"Variance\",\"Std.Dev.\"),digits=2)\n",
    "vc = as.data.frame(vc)\n",
    "icc_wb_site = vc[1,4]/(vc[1,4]+vc[2,4]+vc[3,4])*100\n",
    "print(icc_wb_site)\n",
    "icc_wb_year = vc[2,4]/(vc[1,4]+vc[2,4]+vc[3,4])*100\n",
    "print(icc_wb_year)"
   ]
  },
  {
   "cell_type": "markdown",
   "id": "e006bfd2",
   "metadata": {},
   "source": [
    "## Dissolved N2O concentrations"
   ]
  },
  {
   "cell_type": "code",
   "execution_count": 105,
   "id": "994ae54d",
   "metadata": {},
   "outputs": [
    {
     "name": "stderr",
     "output_type": "stream",
     "text": [
      "boundary (singular) fit: see ?isSingular\n"
     ]
    },
    {
     "data": {
      "text/plain": [
       "Linear mixed model fit by REML ['lmerMod']\n",
       "Formula: diss_N2O ~ (1 | Wb_site) + (1 | Year)\n",
       "   Data: Lake\n",
       "\n",
       "REML criterion at convergence: 190.1\n",
       "\n",
       "Scaled residuals: \n",
       "     Min       1Q   Median       3Q      Max \n",
       "-1.90832 -0.56873 -0.06046  0.66036  2.08390 \n",
       "\n",
       "Random effects:\n",
       " Groups   Name        Variance Std.Dev.\n",
       " Wb_site  (Intercept)  0.000   0.000   \n",
       " Year     (Intercept) 21.161   4.600   \n",
       " Residual              1.171   1.082   \n",
       "Number of obs: 61, groups:  Wb_site, 12; Year, 2\n",
       "\n",
       "Fixed effects:\n",
       "            Estimate Std. Error t value\n",
       "(Intercept)   10.075      3.256   3.095\n",
       "convergence code: 0\n",
       "boundary (singular) fit: see ?isSingular\n"
      ]
     },
     "metadata": {},
     "output_type": "display_data"
    }
   ],
   "source": [
    "model.lake.n2o.1 <- lmer(diss_N2O ~ (1|Wb_site) + (1|Year), data = Lake)\n",
    "summary(model.lake.n2o.1)"
   ]
  },
  {
   "cell_type": "code",
   "execution_count": 106,
   "id": "af92f6fa",
   "metadata": {},
   "outputs": [
    {
     "name": "stderr",
     "output_type": "stream",
     "text": [
      "boundary (singular) fit: see ?isSingular\n"
     ]
    },
    {
     "data": {
      "text/plain": [
       "Linear mixed model fit by REML ['lmerMod']\n",
       "Formula: diss_N2O ~ (1 | Wb) + (1 | Year)\n",
       "   Data: Lake\n",
       "\n",
       "REML criterion at convergence: 190.1\n",
       "\n",
       "Scaled residuals: \n",
       "     Min       1Q   Median       3Q      Max \n",
       "-1.90832 -0.56873 -0.06046  0.66036  2.08390 \n",
       "\n",
       "Random effects:\n",
       " Groups   Name        Variance Std.Dev.\n",
       " Wb       (Intercept)  0.000   0.000   \n",
       " Year     (Intercept) 21.161   4.600   \n",
       " Residual              1.171   1.082   \n",
       "Number of obs: 61, groups:  Wb, 3; Year, 2\n",
       "\n",
       "Fixed effects:\n",
       "            Estimate Std. Error t value\n",
       "(Intercept)   10.075      3.256   3.095\n",
       "convergence code: 0\n",
       "boundary (singular) fit: see ?isSingular\n"
      ]
     },
     "metadata": {},
     "output_type": "display_data"
    }
   ],
   "source": [
    "model.lake.n2o.2 <- lmer(diss_N2O ~ (1|Wb) + (1|Year), data = Lake)\n",
    "summary(model.lake.n2o.2)"
   ]
  },
  {
   "cell_type": "code",
   "execution_count": 110,
   "id": "f990d13b",
   "metadata": {},
   "outputs": [
    {
     "data": {
      "image/png": "[encoded data removed]",
      "text/plain": [
       "plot without title"
      ]
     },
     "metadata": {},
     "output_type": "display_data"
    }
   ],
   "source": [
    "# Make a dataframe with sampled and predcited dissolved N2O data from model model.lake.n2o.1\n",
    "N2O <-  Lake$diss_N2O\n",
    "site <- Lake$Wb_site\n",
    "year <- Lake$Year\n",
    "which <- 'sample'\n",
    "Lake_N2O_plot <- data.frame(site, which, N2O, year)\n",
    "\n",
    "which <- 'predicted'\n",
    "predictDf <- data.frame(Wb_site = Lake$Wb_site, Year = Lake$Year)\n",
    "modelled_N2O <- predict(model.lake.n2o.1, predictDf)\n",
    "modelled_site <- predictDf$Wb_site\n",
    "modelled_year <- predictDf$Year\n",
    "modelled <- data.frame(site = modelled_site, which = which, N2O = modelled_N2O, year = modelled_year) \n",
    "\n",
    "Lake_N2O_plot <- rbind(Lake_N2O_plot, modelled)\n",
    "\n",
    "(split_plot <- ggplot(aes(x = site, y = N2O, colour = which), data = Lake_N2O_plot ) + \n",
    "  geom_point() + \n",
    "  theme_classic() +\n",
    "  xlab(\"Lake\") + \n",
    "  ylab(\"Diss N2O\"))"
   ]
  },
  {
   "cell_type": "code",
   "execution_count": 108,
   "id": "0a64ada6",
   "metadata": {},
   "outputs": [
    {
     "name": "stdout",
     "output_type": "stream",
     "text": [
      " Groups   Name        Variance Std.Dev.\n",
      " Wb_site  (Intercept)  0.0     0.0     \n",
      " Year     (Intercept) 21.2     4.6     \n",
      " Residual              1.2     1.1     \n",
      "[1] 0\n",
      "[1] 94.75671\n"
     ]
    }
   ],
   "source": [
    "vc = VarCorr(model.lake.n2o.1)\n",
    "print(vc,comp=c(\"Variance\",\"Std.Dev.\"),digits=2)\n",
    "vc = as.data.frame(vc)\n",
    "icc_wb_site = vc[1,4]/(vc[1,4]+vc[2,4]+vc[3,4])*100\n",
    "print(icc_wb_site)\n",
    "icc_wb_year = vc[2,4]/(vc[1,4]+vc[2,4]+vc[3,4])*100\n",
    "print(icc_wb_year)"
   ]
  },
  {
   "cell_type": "markdown",
   "id": "af587211",
   "metadata": {},
   "source": [
    "# Ponds"
   ]
  },
  {
   "cell_type": "markdown",
   "id": "3308538e",
   "metadata": {},
   "source": [
    "## Dissolved CO2 concentrations"
   ]
  },
  {
   "cell_type": "code",
   "execution_count": 88,
   "id": "d88c45bc",
   "metadata": {},
   "outputs": [
    {
     "data": {
      "text/plain": [
       "Linear mixed model fit by REML ['lmerMod']\n",
       "Formula: diss_CO2 ~ (1 | Wb_site) + (1 | Year)\n",
       "   Data: Pond\n",
       "\n",
       "REML criterion at convergence: 831.1\n",
       "\n",
       "Scaled residuals: \n",
       "     Min       1Q   Median       3Q      Max \n",
       "-2.17297 -0.66471  0.02522  0.54605  2.01853 \n",
       "\n",
       "Random effects:\n",
       " Groups   Name        Variance Std.Dev.\n",
       " Wb_site  (Intercept) 13370    115.63  \n",
       " Year     (Intercept)  2428     49.28  \n",
       " Residual             11404    106.79  \n",
       "Number of obs: 67, groups:  Wb_site, 11; Year, 2\n",
       "\n",
       "Fixed effects:\n",
       "            Estimate Std. Error t value\n",
       "(Intercept)    339.7       51.0   6.661"
      ]
     },
     "metadata": {},
     "output_type": "display_data"
    }
   ],
   "source": [
    "model.pond.co2 <- lmer(diss_CO2 ~ (1|Wb_site) + (1|Year), data = Pond)\n",
    "summary(model.pond.co2)"
   ]
  },
  {
   "cell_type": "markdown",
   "id": "9afa2d5f",
   "metadata": {},
   "source": [
    "### How well does model predict data?"
   ]
  },
  {
   "cell_type": "code",
   "execution_count": 89,
   "id": "d229b3af",
   "metadata": {},
   "outputs": [
    {
     "data": {
      "image/png": "[encoded data removed]",
      "text/plain": [
       "plot without title"
      ]
     },
     "metadata": {},
     "output_type": "display_data"
    }
   ],
   "source": [
    "# Make a dataframe with sampled and predcited by model_ponds dissolved CO2 data in one column\n",
    "# and what CO2 value it is (sample or predict) in another column so can boxplot\n",
    "CO2 <-  Pond$diss_CO2\n",
    "site <- Pond$Wb_site\n",
    "which <- 'sample'\n",
    "Pond_CO2_plot <- data.frame(site, which, CO2)\n",
    "\n",
    "which <- 'predicted'\n",
    "predictDf <- data.frame(Wb_site = Pond$Wb_site, Year = Pond$Year)\n",
    "modelled_CO2 <- predict(model.pond.co2, predictDf)\n",
    "modelled_site <- predictDf$Wb_site\n",
    "modelled <- data.frame(site = modelled_site, which = which, CO2 = modelled_CO2) \n",
    "\n",
    "Pond_CO2_plot <- rbind(Pond_CO2_plot, modelled)\n",
    "\n",
    "\n",
    "(split_plot <- ggplot(aes(x = site, y = CO2, colour = which), data = Pond_CO2_plot ) + \n",
    "  geom_point() + \n",
    "  theme_classic() +\n",
    "  xlab(\"Pond\") + \n",
    "  ylab(\"Diss CO2\"))"
   ]
  },
  {
   "cell_type": "markdown",
   "id": "9e95862e",
   "metadata": {},
   "source": [
    "### Interclass Correlation Coefficient"
   ]
  },
  {
   "cell_type": "code",
   "execution_count": 90,
   "id": "846d4b20",
   "metadata": {},
   "outputs": [
    {
     "name": "stdout",
     "output_type": "stream",
     "text": [
      " Groups   Name        Std.Dev.\n",
      " Wb_site  (Intercept) 115.628 \n",
      " Year     (Intercept)  49.277 \n",
      " Residual             106.790 \n",
      "[1] 49.15004\n",
      "[1] 8.926508\n"
     ]
    }
   ],
   "source": [
    "vc = VarCorr(model.pond.co2)\n",
    "print(vc,comp=c(\"Variance\",\"Std.Dev.\"),digits=2)\n",
    "vc = as.data.frame(vc)\n",
    "icc_wb_site = vc[1,4]/(vc[1,4]+vc[2,4]+vc[3,4])*100\n",
    "print(icc_wb_site)\n",
    "icc_wb_year = vc[2,4]/(vc[1,4]+vc[2,4]+vc[3,4])*100\n",
    "print(icc_wb_year)"
   ]
  },
  {
   "cell_type": "markdown",
   "id": "8ecdec6a",
   "metadata": {},
   "source": [
    "## Dissolved CH4 concentrations"
   ]
  },
  {
   "cell_type": "code",
   "execution_count": 91,
   "id": "05c9f7bd",
   "metadata": {},
   "outputs": [
    {
     "data": {
      "text/plain": [
       "Linear mixed model fit by REML ['lmerMod']\n",
       "Formula: diss_CH4 ~ (1 | Wb_site) + (1 | Year)\n",
       "   Data: Pond\n",
       "\n",
       "REML criterion at convergence: 480.9\n",
       "\n",
       "Scaled residuals: \n",
       "    Min      1Q  Median      3Q     Max \n",
       "-3.0105 -0.5678 -0.0974  0.3276  3.5635 \n",
       "\n",
       "Random effects:\n",
       " Groups   Name        Variance Std.Dev.\n",
       " Wb_site  (Intercept) 58.842   7.671   \n",
       " Year     (Intercept)  4.972   2.230   \n",
       " Residual             58.336   7.638   \n",
       "Number of obs: 67, groups:  Wb_site, 11; Year, 2\n",
       "\n",
       "Fixed effects:\n",
       "            Estimate Std. Error t value\n",
       "(Intercept)   11.709      2.952   3.967"
      ]
     },
     "metadata": {},
     "output_type": "display_data"
    }
   ],
   "source": [
    "model.pond.ch4 <- lmer(diss_CH4 ~ (1|Wb_site) + (1|Year), data = Pond)\n",
    "summary(model.pond.ch4)"
   ]
  },
  {
   "cell_type": "markdown",
   "id": "98bb7d94",
   "metadata": {},
   "source": [
    "### How well does model predict data?"
   ]
  },
  {
   "cell_type": "code",
   "execution_count": 92,
   "id": "c747497a",
   "metadata": {},
   "outputs": [
    {
     "data": {
      "image/png": "[encoded data removed]",
      "text/plain": [
       "plot without title"
      ]
     },
     "metadata": {},
     "output_type": "display_data"
    }
   ],
   "source": [
    "# Make a dataframe with sampled and predcited by model model.pond.ch4\n",
    "CH4 <-  Pond$diss_CH4\n",
    "site <- Pond$Wb_site\n",
    "which <- 'sample'\n",
    "Pond_CH4_plot <- data.frame(site, which, CH4)\n",
    "\n",
    "which <- 'predicted'\n",
    "predictDf <- data.frame(Wb_site = Pond$Wb_site, Year = Pond$Year)\n",
    "modelled_CH4 <- predict(model.pond.ch4, predictDf)\n",
    "modelled_site <- predictDf$Wb_site\n",
    "modelled <- data.frame(site = modelled_site, which = which, CH4 = modelled_CH4) \n",
    "\n",
    "Pond_CH4_plot <- rbind(Pond_CH4_plot, modelled)\n",
    "\n",
    "\n",
    "(split_plot <- ggplot(aes(x = site, y = CH4, colour = which), data = Pond_CH4_plot ) + \n",
    "  geom_point() + \n",
    "  theme_classic() +\n",
    "  xlab(\"Pond\") + \n",
    "  ylab(\"Diss CH4\"))"
   ]
  },
  {
   "cell_type": "markdown",
   "id": "9d8420aa",
   "metadata": {},
   "source": [
    "### Interclass Correlation Coefficient"
   ]
  },
  {
   "cell_type": "code",
   "execution_count": 94,
   "id": "9832ed9a",
   "metadata": {},
   "outputs": [
    {
     "name": "stdout",
     "output_type": "stream",
     "text": [
      " Groups   Name        Variance Std.Dev.\n",
      " Wb_site  (Intercept) 59       7.7     \n",
      " Year     (Intercept)  5       2.2     \n",
      " Residual             58       7.6     \n",
      "[1] 48.17219\n",
      "[1] 4.070097\n"
     ]
    }
   ],
   "source": [
    "vc = VarCorr(model.pond.ch4)\n",
    "print(vc,comp=c(\"Variance\",\"Std.Dev.\"),digits=2)\n",
    "vc = as.data.frame(vc)\n",
    "icc_wb_site = vc[1,4]/(vc[1,4]+vc[2,4]+vc[3,4])*100\n",
    "print(icc_wb_site)\n",
    "icc_wb_year = vc[2,4]/(vc[1,4]+vc[2,4]+vc[3,4])*100\n",
    "print(icc_wb_year)"
   ]
  },
  {
   "cell_type": "markdown",
   "id": "467211d6",
   "metadata": {},
   "source": [
    "## Dissolved N2O concentrations"
   ]
  },
  {
   "cell_type": "code",
   "execution_count": 111,
   "id": "f025375c",
   "metadata": {},
   "outputs": [
    {
     "data": {
      "text/plain": [
       "Linear mixed model fit by REML ['lmerMod']\n",
       "Formula: diss_N2O ~ (1 | Wb_site) + (1 | Year)\n",
       "   Data: Pond\n",
       "\n",
       "REML criterion at convergence: 291.6\n",
       "\n",
       "Scaled residuals: \n",
       "    Min      1Q  Median      3Q     Max \n",
       "-2.1643 -0.7394 -0.1139  0.5941  2.4216 \n",
       "\n",
       "Random effects:\n",
       " Groups   Name        Variance Std.Dev.\n",
       " Wb_site  (Intercept)  1.523   1.234   \n",
       " Year     (Intercept) 10.674   3.267   \n",
       " Residual              3.494   1.869   \n",
       "Number of obs: 67, groups:  Wb_site, 11; Year, 2\n",
       "\n",
       "Fixed effects:\n",
       "            Estimate Std. Error t value\n",
       "(Intercept)    6.111      2.351   2.599"
      ]
     },
     "metadata": {},
     "output_type": "display_data"
    }
   ],
   "source": [
    "model.pond.n2o <- lmer(diss_N2O ~ (1|Wb_site) + (1|Year), data = Pond)\n",
    "summary(model.pond.n2o)"
   ]
  },
  {
   "cell_type": "markdown",
   "id": "9383a222",
   "metadata": {},
   "source": [
    "### How well does model predict data?"
   ]
  },
  {
   "cell_type": "code",
   "execution_count": 115,
   "id": "ee05a925",
   "metadata": {},
   "outputs": [
    {
     "data": {
      "image/png": "[encoded data removed]",
      "text/plain": [
       "plot without title"
      ]
     },
     "metadata": {},
     "output_type": "display_data"
    }
   ],
   "source": [
    "# Make a dataframe with sampled and predcited by model model.pond.ch4\n",
    "N2O <-  Pond$diss_N2O\n",
    "site <- Pond$Wb_site\n",
    "which <- 'sample'\n",
    "Pond_N2O_plot <- data.frame(site, which, N2O)\n",
    "\n",
    "which <- 'predicted'\n",
    "predictDf <- data.frame(Wb_site = Pond$Wb_site, Year = Pond$Year)\n",
    "modelled_N2O <- predict(model.pond.n2o, predictDf)\n",
    "modelled_site <- predictDf$Wb_site\n",
    "modelled <- data.frame(site = modelled_site, which = which, N2O = modelled_N2O) \n",
    "\n",
    "Pond_N2O_plot <- rbind(Pond_N2O_plot, modelled)\n",
    "\n",
    "\n",
    "(split_plot <- ggplot(aes(x = site, y = N2O, colour = which), data = Pond_N2O_plot ) + \n",
    "  geom_point() + \n",
    "  theme_classic() +\n",
    "  xlab(\"Pond\") + \n",
    "  ylab(\"Diss N2O\"))"
   ]
  },
  {
   "cell_type": "markdown",
   "id": "2dbb1497",
   "metadata": {},
   "source": [
    "### Interclass Correlation Coefficient"
   ]
  },
  {
   "cell_type": "code",
   "execution_count": 116,
   "id": "cf564a5f",
   "metadata": {},
   "outputs": [
    {
     "name": "stdout",
     "output_type": "stream",
     "text": [
      " Groups   Name        Variance Std.Dev.\n",
      " Wb_site  (Intercept)  1.5     1.2     \n",
      " Year     (Intercept) 10.7     3.3     \n",
      " Residual              3.5     1.9     \n",
      "[1] 9.703173\n",
      "[1] 68.02881\n"
     ]
    }
   ],
   "source": [
    "vc = VarCorr(model.pond.n2o)\n",
    "print(vc,comp=c(\"Variance\",\"Std.Dev.\"),digits=2)\n",
    "vc = as.data.frame(vc)\n",
    "icc_wb_site = vc[1,4]/(vc[1,4]+vc[2,4]+vc[3,4])*100\n",
    "print(icc_wb_site)\n",
    "icc_wb_year = vc[2,4]/(vc[1,4]+vc[2,4]+vc[3,4])*100\n",
    "print(icc_wb_year)"
   ]
  }
 ],
 "metadata": {
  "kernelspec": {
   "display_name": "R",
   "language": "R",
   "name": "ir"
  },
  "language_info": {
   "codemirror_mode": "r",
   "file_extension": ".r",
   "mimetype": "text/x-r-source",
   "name": "R",
   "pygments_lexer": "r",
   "version": "3.6.1"
  }
 },
 "nbformat": 4,
 "nbformat_minor": 5
}
